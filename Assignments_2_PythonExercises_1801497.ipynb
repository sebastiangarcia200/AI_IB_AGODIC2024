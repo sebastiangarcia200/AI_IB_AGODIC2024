{
  "nbformat": 4,
  "nbformat_minor": 0,
  "metadata": {
    "colab": {
      "provenance": [],
      "toc_visible": true,
      "authorship_tag": "ABX9TyN2GXPICZmz3Rfpiaae9cs6",
      "include_colab_link": true
    },
    "kernelspec": {
      "name": "python3",
      "display_name": "Python 3"
    },
    "language_info": {
      "name": "python"
    }
  },
  "cells": [
    {
      "cell_type": "markdown",
      "metadata": {
        "id": "view-in-github",
        "colab_type": "text"
      },
      "source": [
        "<a href=\"https://colab.research.google.com/github/sebastiangarcia200/AI_IB_AGODIC2024/blob/main/Assignments_2_PythonExercises_1801497.ipynb\" target=\"_parent\"><img src=\"https://colab.research.google.com/assets/colab-badge.svg\" alt=\"Open In Colab\"/></a>"
      ]
    },
    {
      "cell_type": "markdown",
      "source": [
        "# Assignment 2 Basics on Python Sección nueva"
      ],
      "metadata": {
        "id": "5SddNexEasD7"
      }
    },
    {
      "cell_type": "markdown",
      "source": [
        "## Exercise 1. Text Analysis Tool"
      ],
      "metadata": {
        "id": "vVqLMIcnbAKU"
      }
    },
    {
      "cell_type": "code",
      "source": [
        "from collections import Counter  # Importing Counter class from collections module\n",
        "\n",
        "def analyze_text(content):\n",
        "    # Dividing the content into paragraphs\n",
        "    paragraph_list = content.split('\\n\\n')\n",
        "    paragraph_count = len(paragraph_list)\n",
        "\n",
        "    # Dividing the content into sentences\n",
        "    sentence_list = content.replace('!', '.').replace('?', '.').split('.')\n",
        "    sentence_count = len(sentence_list)\n",
        "\n",
        "    # Dividing the content into words\n",
        "    word_list = content.split()\n",
        "    word_count = len(word_list)\n",
        "\n",
        "    # Computing the average length of words\n",
        "    average_word_length = sum(len(w) for w in word_list) / word_count\n",
        "\n",
        "    # Finding the most frequent words and their occurrences\n",
        "    word_frequency = Counter(word_list)\n",
        "    top_words = word_frequency.most_common(10)\n",
        "\n",
        "    print(f'Total paragraphs: {paragraph_count}')\n",
        "    print(f'Total sentences: {sentence_count}')\n",
        "    print(f'Total words: {word_count}')\n",
        "    print(f'Average word length: {average_word_length:.2f}')\n",
        "    print('Top 10 most frequent words:')\n",
        "    for word, count in top_words:\n",
        "        print(f'{word}: {count}')\n",
        "\n",
        "# Testing the function with user input\n",
        "user_input = input(\"Please enter your text: \")\n",
        "analyze_text(user_input)\n"
      ],
      "metadata": {
        "colab": {
          "base_uri": "https://localhost:8080/"
        },
        "id": "dY9SHqyRbTnQ",
        "outputId": "635c029a-a4de-4d5d-ab21-d39d73cae99b"
      },
      "execution_count": 1,
      "outputs": [
        {
          "output_type": "stream",
          "name": "stdout",
          "text": [
            "Please enter your text: The protein block can enhance bioconjugate self-assembly if the protein itself forms or promotes well-defined structures such that the hydrophobic collapse of one block is no longer required for assembly in aqueous solutions.\n",
            "Total paragraphs: 1\n",
            "Total sentences: 2\n",
            "Total words: 33\n",
            "Average word length: 5.85\n",
            "Top 10 most frequent words:\n",
            "protein: 2\n",
            "block: 2\n",
            "the: 2\n",
            "The: 1\n",
            "can: 1\n",
            "enhance: 1\n",
            "bioconjugate: 1\n",
            "self-assembly: 1\n",
            "if: 1\n",
            "itself: 1\n"
          ]
        }
      ]
    },
    {
      "cell_type": "markdown",
      "source": [
        "##Hangman Game"
      ],
      "metadata": {
        "id": "3eqM56tEmnxL"
      }
    },
    {
      "cell_type": "code",
      "source": [
        "# Import the random module\n",
        "import random\n",
        "\n",
        "# Define the Hangman function\n",
        "def hangman():\n",
        "    # Define a list of words to choose from\n",
        "    words = ['apple', 'banana', 'orange', 'kiwi', 'watermelon', 'melon', 'pear']\n",
        "\n",
        "    # Randomly choose a word from the list\n",
        "    word = random.choice(words)\n",
        "\n",
        "    # Create a list to store guessed letters\n",
        "    guessed_letters = []\n",
        "\n",
        "    attempts_left = 10\n",
        "\n",
        "    print(\"Welcome to Hangman!\")\n",
        "\n",
        "    # Start the game loop that continues until the player runs out of attempts\n",
        "    while attempts_left > 0:\n",
        "        word_guessed = True\n",
        "\n",
        "        # Display the word with guessed letters and underscores for remaining letters\n",
        "        for char in word:\n",
        "            if char in guessed_letters:  # Show guessed letters\n",
        "                print(char, end=' ')\n",
        "            else:  # Show underscores for letters not yet guessed\n",
        "                print('_', end=' ')\n",
        "                word_guessed = False\n",
        "\n",
        "        # Check if the entire word has been guessed\n",
        "        if word_guessed:\n",
        "            print(\"\\nCongratulations, you won!\")\n",
        "            return\n",
        "\n",
        "        # Ask the player to guess a letter\n",
        "        guess = input(\"\\nGuess a letter: \").lower()\n",
        "\n",
        "        # If the guessed letter is in the word, add it to the guessed list\n",
        "        if guess in word:\n",
        "            guessed_letters.append(guess)\n",
        "        else:\n",
        "            # If the guessed letter is incorrect, decrement the attempts left\n",
        "            attempts_left -= 1\n",
        "            print(\"Wrong guess! You have\", attempts_left, \"attempts remaining.\")\n",
        "\n",
        "    # If the player runs out of attempts, the game ends\n",
        "    print(\"Game over! The correct word was:\", word)\n",
        "\n",
        "# Call the hangman function to start the game\n",
        "hangman()\n"
      ],
      "metadata": {
        "colab": {
          "base_uri": "https://localhost:8080/"
        },
        "id": "3nE62Boom1x4",
        "outputId": "c547b514-79c5-4037-e76c-324e02472c4a"
      },
      "execution_count": 1,
      "outputs": [
        {
          "output_type": "stream",
          "name": "stdout",
          "text": [
            "Welcome to Hangman!\n",
            "_ _ _ _ _ \n",
            "Guess a letter: A\n",
            "a _ _ _ _ \n",
            "Guess a letter: M\n",
            "Wrong guess! You have 9 attempts remaining.\n",
            "a _ _ _ _ \n",
            "Guess a letter: P\n",
            "a p p _ _ \n",
            "Guess a letter: L\n",
            "a p p l _ \n",
            "Guess a letter: E\n",
            "a p p l e \n",
            "Congratulations, you won!\n"
          ]
        }
      ]
    },
    {
      "cell_type": "markdown",
      "source": [
        "##Number Guessing Name"
      ],
      "metadata": {
        "id": "2jljizmmnttV"
      }
    },
    {
      "cell_type": "code",
      "source": [
        "# Importing the random module\n",
        "import random\n",
        "\n",
        "def number_guessing_game():\n",
        "    # Randomly select a number between 1 and 100\n",
        "    target_number = random.randint(1, 100)\n",
        "\n",
        "    # Prompt the user to make a guess\n",
        "    user_guess = int(input(\"Pick a number between 1 and 100: \"))\n",
        "\n",
        "    # Continue to prompt until the user guesses the correct number\n",
        "    while user_guess != target_number:\n",
        "        # Hint if the guess is lower than the target\n",
        "        if user_guess < target_number:\n",
        "            print(\"Guess higher!\")\n",
        "        # Hint if the guess is higher than the target\n",
        "        else:\n",
        "            print(\"Guess lower!\")\n",
        "        # Request another guess\n",
        "        user_guess = int(input(\"Give it another shot: \"))\n",
        "\n",
        "    # Congratulate the user on guessing correctly\n",
        "    print(\"Well done! You found the number.\")\n",
        "\n",
        "# Begin the game\n",
        "number_guessing_game()\n"
      ],
      "metadata": {
        "colab": {
          "base_uri": "https://localhost:8080/"
        },
        "id": "2vmwevCyoEqG",
        "outputId": "0ca7a013-eb28-44a6-909e-6ca02ab0529b"
      },
      "execution_count": 2,
      "outputs": [
        {
          "output_type": "stream",
          "name": "stdout",
          "text": [
            "Pick a number between 1 and 100: 29\n",
            "Guess lower!\n",
            "Give it another shot: 15\n",
            "Guess higher!\n",
            "Give it another shot: 25\n",
            "Well done! You found the number.\n"
          ]
        }
      ]
    }
  ]
}